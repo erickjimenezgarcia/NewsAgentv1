{
 "cells": [
  {
   "cell_type": "code",
   "execution_count": 1,
   "id": "4fd47eed",
   "metadata": {},
   "outputs": [
    {
     "name": "stdout",
     "output_type": "stream",
     "text": [
      "ruta encontrada: lib\n",
      "ruta encontrada: main.py\n",
      "ruta encontrada: NewsAg.ipynb\n",
      "ruta encontrada: notebook_utils.py\n",
      "Iniciando ejecución del orquestador...\n",
      "Script cargado. Descomenta y ejecuta una de las líneas de ejemplo o usa la función 'ejecutar_orquestador'.\n"
     ]
    }
   ],
   "source": [
    "import os\n",
    "import sys\n",
    "import time\n",
    "from datetime import datetime\n",
    "from IPython.display import display, HTML\n",
    "\n",
    "# Asegurarnos que la ruta del código está en el path\n",
    "project_root = \"C:\\\\Users\\\\emers\\\\Documents\\\\SUNASS_CAMI_CENTRO\\\\DEV_SUNASS\\\\NewsAgent\"\n",
    "code_dir = os.path.join(project_root, \"codigo\")\n",
    "if code_dir not in sys.path:\n",
    "    sys.path.append(code_dir)\n",
    "\n",
    "#codigo de testeo\n",
    "ruta = os.listdir(code_dir)\n",
    "for archivo in ruta:\n",
    "    print(f\"ruta encontrada: {archivo}\")\n",
    "\n",
    "\n",
    "#Importar utilidades específicas para notebooks\n",
    "from notebook_utils import setup_environment\n",
    "\n",
    "# Mostrar un mensaje de inicio\n",
    "print(\"Iniciando ejecución del orquestador...\")\n",
    "\n",
    "# Función para ejecutar el orquestador\n",
    "def ejecutar_orquestador(fecha, prompt=\"detallado\", batch_size=3, pause_seconds=60):\n",
    "    \"\"\"\n",
    "    Ejecuta el orquestador para una fecha específica.\n",
    "    \n",
    "    Args:\n",
    "        fecha (str): Fecha en formato DDMMYYYY\n",
    "        prompt (str): Tipo de prompt (simple, detallado, estructurado, anti-ruido)\n",
    "        batch_size (int): Tamaño del lote de imágenes\n",
    "        pause_seconds (int): Segundos de pausa entre lotes\n",
    "    \"\"\"\n",
    "    # Configurar el entorno y logging antes de importar main\n",
    "    logger = setup_environment(project_root)\n",
    "    \n",
    "    # Ahora importamos run_pipeline (después de configurar el logging)\n",
    "    from main import run_pipeline\n",
    "    \n",
    "    # Configurar el archivo config.yaml\n",
    "    config_file = os.path.join(project_root, \"config.yaml\")\n",
    "    try:\n",
    "        # Guardar configuración existente si existe\n",
    "        config_backup = None\n",
    "        if os.path.exists(config_file):\n",
    "            with open(config_file, 'r', encoding='utf-8') as f:\n",
    "                config_backup = f.read()\n",
    "        \n",
    "        # Escribir nueva configuración\n",
    "        with open(config_file, 'w', encoding='utf-8') as f:\n",
    "            f.write(f\"\"\"api:\n",
    "  prompt_key: \"{prompt}\"\n",
    "  batch_size: {batch_size}\n",
    "  pause_seconds: {pause_seconds}\n",
    "\"\"\")\n",
    "        \n",
    "        print(f\"Configuración aplicada: prompt={prompt}, batch_size={batch_size}, pause={pause_seconds}s\")\n",
    "        \n",
    "        # Ejecutar el orquestador\n",
    "        print(f\"Ejecutando orquestador para fecha: {fecha}\")\n",
    "        print(\"Esto puede tomar varios minutos. Por favor, espera...\")\n",
    "        \n",
    "        start_time = datetime.now()\n",
    "        run_pipeline(custom_date_str=fecha)\n",
    "        end_time = datetime.now()\n",
    "        \n",
    "        duration = (end_time - start_time).total_seconds()\n",
    "        print(f\"✅ Procesamiento completado en {duration:.2f} segundos\")\n",
    "        \n",
    "        # Restaurar configuración original si existía\n",
    "        if config_backup:\n",
    "            with open(config_file, 'w', encoding='utf-8') as f:\n",
    "                f.write(config_backup)\n",
    "    \n",
    "    except Exception as e:\n",
    "        print(f\"Error ejecutando orquestador: {str(e)}\")\n",
    "        import traceback\n",
    "        traceback.print_exc()\n",
    "\n",
    "# Ejemplo de uso - descomenta la línea que necesites:\n",
    "# ejecutar_orquestador(\"01042025\")                      # Fecha básica con valores predeterminados\n",
    "# ejecutar_orquestador(\"01042025\", prompt=\"simple\")     # Cambiando el prompt\n",
    "# ejecutar_orquestador(\"01042025\", batch_size=2)        # Procesando sólo 2 imágenes antes de pausar\n",
    "\n",
    "print(\"Script cargado. Descomenta y ejecuta una de las líneas de ejemplo o usa la función 'ejecutar_orquestador'.\")"
   ]
  },
  {
   "cell_type": "code",
   "execution_count": 3,
   "id": "3fde6154",
   "metadata": {},
   "outputs": [
    {
     "ename": "ModuleNotFoundError",
     "evalue": "No module named 'frontend'",
     "output_type": "error",
     "traceback": [
      "\u001b[31m---------------------------------------------------------------------------\u001b[39m",
      "\u001b[31mModuleNotFoundError\u001b[39m                       Traceback (most recent call last)",
      "\u001b[36mCell\u001b[39m\u001b[36m \u001b[39m\u001b[32mIn[3]\u001b[39m\u001b[32m, line 2\u001b[39m\n\u001b[32m      1\u001b[39m \u001b[38;5;66;03m# Ejemplo de ejecución:\u001b[39;00m\n\u001b[32m----> \u001b[39m\u001b[32m2\u001b[39m \u001b[43mejecutar_orquestador\u001b[49m\u001b[43m(\u001b[49m\u001b[33;43m\"\u001b[39;49m\u001b[33;43m01042025\u001b[39;49m\u001b[33;43m\"\u001b[39;49m\u001b[43m)\u001b[49m\n",
      "\u001b[36mCell\u001b[39m\u001b[36m \u001b[39m\u001b[32mIn[1]\u001b[39m\u001b[32m, line 40\u001b[39m, in \u001b[36mejecutar_orquestador\u001b[39m\u001b[34m(fecha, prompt, batch_size, pause_seconds)\u001b[39m\n\u001b[32m     37\u001b[39m logger = setup_environment(project_root)\n\u001b[32m     39\u001b[39m \u001b[38;5;66;03m# Ahora importamos run_pipeline (después de configurar el logging)\u001b[39;00m\n\u001b[32m---> \u001b[39m\u001b[32m40\u001b[39m \u001b[38;5;28;01mfrom\u001b[39;00m\u001b[38;5;250m \u001b[39m\u001b[34;01mmain\u001b[39;00m\u001b[38;5;250m \u001b[39m\u001b[38;5;28;01mimport\u001b[39;00m run_pipeline\n\u001b[32m     42\u001b[39m \u001b[38;5;66;03m# Configurar el archivo config.yaml\u001b[39;00m\n\u001b[32m     43\u001b[39m config_file = os.path.join(project_root, \u001b[33m\"\u001b[39m\u001b[33mconfig.yaml\u001b[39m\u001b[33m\"\u001b[39m)\n",
      "\u001b[36mFile \u001b[39m\u001b[32m~\\Documents\\SUNASS_CAMI_CENTRO\\DEV_SUNASS\\NewsAgent\\codigo\\main.py:41\u001b[39m\n\u001b[32m     39\u001b[39m \u001b[38;5;28;01mfrom\u001b[39;00m\u001b[38;5;250m \u001b[39m\u001b[34;01mlib\u001b[39;00m\u001b[34;01m.\u001b[39;00m\u001b[34;01mconfig_manager\u001b[39;00m\u001b[38;5;250m \u001b[39m\u001b[38;5;28;01mimport\u001b[39;00m load_config, get_paths\n\u001b[32m     40\u001b[39m \u001b[38;5;28;01mfrom\u001b[39;00m\u001b[38;5;250m \u001b[39m\u001b[34;01mlib\u001b[39;00m\u001b[34;01m.\u001b[39;00m\u001b[34;01mfile_manager\u001b[39;00m\u001b[38;5;250m \u001b[39m\u001b[38;5;28;01mimport\u001b[39;00m save_to_csv, save_to_json, save_stats\n\u001b[32m---> \u001b[39m\u001b[32m41\u001b[39m \u001b[38;5;28;01mfrom\u001b[39;00m\u001b[38;5;250m \u001b[39m\u001b[34;01mlib\u001b[39;00m\u001b[34;01m.\u001b[39;00m\u001b[34;01mpdf_processor\u001b[39;00m\u001b[38;5;250m \u001b[39m\u001b[38;5;28;01mimport\u001b[39;00m extract_links_from_pdf\n\u001b[32m     42\u001b[39m \u001b[38;5;28;01mfrom\u001b[39;00m\u001b[38;5;250m \u001b[39m\u001b[34;01mlib\u001b[39;00m\u001b[34;01m.\u001b[39;00m\u001b[34;01murl_manager\u001b[39;00m\u001b[38;5;250m \u001b[39m\u001b[38;5;28;01mimport\u001b[39;00m classify_urls\n\u001b[32m     43\u001b[39m \u001b[38;5;28;01mfrom\u001b[39;00m\u001b[38;5;250m \u001b[39m\u001b[34;01mlib\u001b[39;00m\u001b[34;01m.\u001b[39;00m\u001b[34;01mhistory_tracker\u001b[39;00m\u001b[38;5;250m \u001b[39m\u001b[38;5;28;01mimport\u001b[39;00m HistoryTracker\n",
      "\u001b[36mFile \u001b[39m\u001b[32m~\\Documents\\SUNASS_CAMI_CENTRO\\DEV_SUNASS\\NewsAgent\\codigo\\lib\\pdf_processor.py:2\u001b[39m\n\u001b[32m      1\u001b[39m \u001b[38;5;66;03m# codigo/lib/pdf_processor.py\u001b[39;00m\n\u001b[32m----> \u001b[39m\u001b[32m2\u001b[39m \u001b[38;5;28;01mimport\u001b[39;00m\u001b[38;5;250m \u001b[39m\u001b[34;01mfitz\u001b[39;00m  \u001b[38;5;66;03m# PyMuPDF\u001b[39;00m\n\u001b[32m      3\u001b[39m \u001b[38;5;28;01mimport\u001b[39;00m\u001b[38;5;250m \u001b[39m\u001b[34;01mlogging\u001b[39;00m\n\u001b[32m      4\u001b[39m \u001b[38;5;28;01mimport\u001b[39;00m\u001b[38;5;250m \u001b[39m\u001b[34;01mos\u001b[39;00m\n",
      "\u001b[36mFile \u001b[39m\u001b[32m~\\Documents\\SUNASS_CAMI_CENTRO\\DEV_SUNASS\\NewsAgent\\venv\\Lib\\site-packages\\fitz\\__init__.py:1\u001b[39m\n\u001b[32m----> \u001b[39m\u001b[32m1\u001b[39m \u001b[38;5;28;01mfrom\u001b[39;00m\u001b[38;5;250m \u001b[39m\u001b[34;01mfrontend\u001b[39;00m\u001b[38;5;250m \u001b[39m\u001b[38;5;28;01mimport\u001b[39;00m *\n\u001b[32m      2\u001b[39m \u001b[38;5;28;01mimport\u001b[39;00m\u001b[38;5;250m \u001b[39m\u001b[34;01mtools\u001b[39;00m\n\u001b[32m      3\u001b[39m \u001b[38;5;28;01mimport\u001b[39;00m\u001b[38;5;250m \u001b[39m\u001b[34;01mos\u001b[39;00m\u001b[34;01m.\u001b[39;00m\u001b[34;01mpath\u001b[39;00m\u001b[38;5;250m \u001b[39m\u001b[38;5;28;01mas\u001b[39;00m\u001b[38;5;250m \u001b[39m\u001b[34;01mop\u001b[39;00m\n",
      "\u001b[31mModuleNotFoundError\u001b[39m: No module named 'frontend'"
     ]
    }
   ],
   "source": [
    "# Ejemplo de ejecución:\n",
    "ejecutar_orquestador(\"01042025\")"
   ]
  },
  {
   "cell_type": "markdown",
   "id": "4a67b4ce",
   "metadata": {},
   "source": [
    "## Panel de control para ejecución fácil\n",
    "\n",
    "Para facilitar aún más el uso de esta herramienta a personas no familiarizadas con Python, puedes utilizar el siguiente panel interactivo:"
   ]
  },
  {
   "cell_type": "code",
   "execution_count": 14,
   "id": "5a8ec654",
   "metadata": {},
   "outputs": [
    {
     "data": {
      "application/vnd.jupyter.widget-view+json": {
       "model_id": "7012250968654080b7e0e79f62c61a8b",
       "version_major": 2,
       "version_minor": 0
      },
      "text/plain": [
       "VBox(children=(HBox(children=(Text(value='19032025', description='Fecha (DDMMYYYY):'), Dropdown(description='T…"
      ]
     },
     "metadata": {},
     "output_type": "display_data"
    }
   ],
   "source": [
    "#Descomenta y ejecuta esto para usar el panel interactivo\n",
    "import ipywidgets as widgets\n",
    "from IPython.display import display, clear_output\n",
    "\n",
    "# Crear widgets para la entrada de datos\n",
    "fecha_input = widgets.Text(value='19032025', description='Fecha (DDMMYYYY):')\n",
    "prompt_dropdown = widgets.Dropdown(\n",
    "    options=['simple', 'detallado', 'estructurado', 'anti-ruido'],\n",
    "    value='estructurado',\n",
    "    description='Tipo de prompt:'\n",
    ")\n",
    "batch_slider = widgets.IntSlider(value=3, min=1, max=10, description='Batch size:')\n",
    "pause_slider = widgets.IntSlider(value=60, min=10, max=300, description='Pausa (seg):')\n",
    "\n",
    "# Función para manejar el botón de ejecución\n",
    "def on_ejecutar_button_clicked(b):\n",
    "    with output:\n",
    "        clear_output()\n",
    "        ejecutar_orquestador(\n",
    "            fecha_input.value,\n",
    "            prompt=prompt_dropdown.value,\n",
    "            batch_size=batch_slider.value,\n",
    "            pause_seconds=pause_slider.value\n",
    "        )\n",
    "\n",
    "# Crear botón de ejecución\n",
    "ejecutar_button = widgets.Button(description='Ejecutar Orquestador')\n",
    "ejecutar_button.on_click(on_ejecutar_button_clicked)\n",
    "\n",
    "# Crear área de salida\n",
    "output = widgets.Output()\n",
    "\n",
    "# Mostrar interfaz\n",
    "display(widgets.VBox([\n",
    "    widgets.HBox([fecha_input, prompt_dropdown]),\n",
    "    widgets.HBox([batch_slider, pause_slider]),\n",
    "    ejecutar_button,\n",
    "    output\n",
    "]))"
   ]
  }
 ],
 "metadata": {
  "kernelspec": {
   "display_name": "Python 3 (ipykernel)",
   "language": "python",
   "name": "python3"
  },
  "language_info": {
   "codemirror_mode": {
    "name": "ipython",
    "version": 3
   },
   "file_extension": ".py",
   "mimetype": "text/x-python",
   "name": "python",
   "nbconvert_exporter": "python",
   "pygments_lexer": "ipython3",
   "version": "3.13.2"
  }
 },
 "nbformat": 4,
 "nbformat_minor": 5
}
